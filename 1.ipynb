{
 "cells": [
  {
   "cell_type": "code",
   "execution_count": 1,
   "id": "b3bd3721",
   "metadata": {},
   "outputs": [],
   "source": [
    "import numpy as np\n",
    "import pandas as pd\n",
    "import matplotlib.pyplot as plt\n",
    "import sklearn.linear_model as lm\n",
    "import seaborn as sns\n",
    "from functions import loadDataFrame"
   ]
  },
  {
   "cell_type": "markdown",
   "id": "955f7790",
   "metadata": {},
   "source": [
    "### Load Data"
   ]
  },
  {
   "cell_type": "code",
   "execution_count": 13,
   "id": "67fb7c80",
   "metadata": {},
   "outputs": [
    {
     "data": {
      "text/html": [
       "<div>\n",
       "<style scoped>\n",
       "    .dataframe tbody tr th:only-of-type {\n",
       "        vertical-align: middle;\n",
       "    }\n",
       "\n",
       "    .dataframe tbody tr th {\n",
       "        vertical-align: top;\n",
       "    }\n",
       "\n",
       "    .dataframe thead th {\n",
       "        text-align: right;\n",
       "    }\n",
       "</style>\n",
       "<table border=\"1\" class=\"dataframe\">\n",
       "  <thead>\n",
       "    <tr style=\"text-align: right;\">\n",
       "      <th></th>\n",
       "      <th>wait</th>\n",
       "      <th>correctSequence</th>\n",
       "      <th>userInput</th>\n",
       "    </tr>\n",
       "  </thead>\n",
       "  <tbody>\n",
       "    <tr>\n",
       "      <th>0</th>\n",
       "      <td>0.5</td>\n",
       "      <td>[47, 19, 81, 42, 27, 86, 40, 92, 58, 49, 56, 9...</td>\n",
       "      <td>[25, 23, 81, 47, 49, 27, 33, 81, 85, 94, 34, 1...</td>\n",
       "    </tr>\n",
       "    <tr>\n",
       "      <th>1</th>\n",
       "      <td>0.5</td>\n",
       "      <td>[51, 64, 75, 80, 25, 27, 72, 28, 59, 97, 85, 7...</td>\n",
       "      <td>[14, 45, 49, 88, 75, 70, 14, 28, 56, 34, 67, 3...</td>\n",
       "    </tr>\n",
       "    <tr>\n",
       "      <th>2</th>\n",
       "      <td>0.5</td>\n",
       "      <td>[76, 14, 60, 88, 37, 77, 90, 64, 99, 89, 72, 8...</td>\n",
       "      <td>[41, 70, 76, 14, 60, 76, 34, 21, 54, 76, 94, 2...</td>\n",
       "    </tr>\n",
       "    <tr>\n",
       "      <th>3</th>\n",
       "      <td>0.5</td>\n",
       "      <td>[94, 61, 50, 95, 80, 49, 64, 23, 99, 24, 66, 1...</td>\n",
       "      <td>[37, 35, 94, 95, 91, 90, 64, 61, 65, 35, 83, 2...</td>\n",
       "    </tr>\n",
       "    <tr>\n",
       "      <th>4</th>\n",
       "      <td>1.0</td>\n",
       "      <td>[67, 96, 28, 95, 42, 73, 74, 83, 66, 82, 20, 4...</td>\n",
       "      <td>[52, 33, 96, 97, 86, 82, 72, 71, 45, 56, 23, 9...</td>\n",
       "    </tr>\n",
       "  </tbody>\n",
       "</table>\n",
       "</div>"
      ],
      "text/plain": [
       "   wait                                    correctSequence  \\\n",
       "0   0.5  [47, 19, 81, 42, 27, 86, 40, 92, 58, 49, 56, 9...   \n",
       "1   0.5  [51, 64, 75, 80, 25, 27, 72, 28, 59, 97, 85, 7...   \n",
       "2   0.5  [76, 14, 60, 88, 37, 77, 90, 64, 99, 89, 72, 8...   \n",
       "3   0.5  [94, 61, 50, 95, 80, 49, 64, 23, 99, 24, 66, 1...   \n",
       "4   1.0  [67, 96, 28, 95, 42, 73, 74, 83, 66, 82, 20, 4...   \n",
       "\n",
       "                                           userInput  \n",
       "0  [25, 23, 81, 47, 49, 27, 33, 81, 85, 94, 34, 1...  \n",
       "1  [14, 45, 49, 88, 75, 70, 14, 28, 56, 34, 67, 3...  \n",
       "2  [41, 70, 76, 14, 60, 76, 34, 21, 54, 76, 94, 2...  \n",
       "3  [37, 35, 94, 95, 91, 90, 64, 61, 65, 35, 83, 2...  \n",
       "4  [52, 33, 96, 97, 86, 82, 72, 71, 45, 56, 23, 9...  "
      ]
     },
     "metadata": {},
     "output_type": "display_data"
    }
   ],
   "source": [
    "df = loadDataFrame(\"Ali/eksperiment1.csv\", convertToInt=True)\n",
    "display(df.head())"
   ]
  },
  {
   "cell_type": "markdown",
   "id": "105b869d",
   "metadata": {},
   "source": [
    "### Plot accuracy over each wait time"
   ]
  },
  {
   "cell_type": "code",
   "execution_count": 14,
   "id": "1c0ae08a",
   "metadata": {},
   "outputs": [
    {
     "name": "stdout",
     "output_type": "stream",
     "text": [
      "[np.float64(1.0), np.float64(2.25), np.float64(2.5), np.float64(2.0)]\n"
     ]
    },
    {
     "data": {
      "text/plain": [
       "[<matplotlib.lines.Line2D at 0x181ef510690>]"
      ]
     },
     "execution_count": 14,
     "metadata": {},
     "output_type": "execute_result"
    },
    {
     "data": {
      "image/png": "[encoded data removed]",
      "text/plain": [
       "<Figure size 640x480 with 1 Axes>"
      ]
     },
     "metadata": {},
     "output_type": "display_data"
    }
   ],
   "source": [
    "accuracies = []\n",
    "wait_times = df['wait'].unique()\n",
    "for wait in wait_times:\n",
    "    subset = df[df['wait'] == wait]\n",
    "    correct_counts = []\n",
    "    for index, row in subset.iterrows():\n",
    "        user_input = [str(i) for i in row['userInput'] if i != '']\n",
    "        correct_sequence = [str(i) for i in row['correctSequence'] if i != '']\n",
    "        correct_count = sum(1 for ui, ci in zip(np.unique(correct_sequence), np.unique(user_input)) if ui == ci)\n",
    "        correct_counts.append(correct_count)\n",
    "    average_accuracy = np.mean(correct_counts)\n",
    "    \n",
    "    accuracies.append(average_accuracy)  # Assuming max score is 10\n",
    "\n",
    "\n",
    "print(accuracies)\n",
    "plt.plot(wait_times, accuracies, marker='o')"
   ]
  }
 ],
 "metadata": {
  "kernelspec": {
   "display_name": "dtu02450",
   "language": "python",
   "name": "python3"
  },
  "language_info": {
   "codemirror_mode": {
    "name": "ipython",
    "version": 3
   },
   "file_extension": ".py",
   "mimetype": "text/x-python",
   "name": "python",
   "nbconvert_exporter": "python",
   "pygments_lexer": "ipython3",
   "version": "3.11.11"
  }
 },
 "nbformat": 4,
 "nbformat_minor": 5
}
