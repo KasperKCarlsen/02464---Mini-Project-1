{
 "cells": [
  {
   "cell_type": "code",
   "execution_count": 71,
   "id": "8d358b67",
   "metadata": {},
   "outputs": [],
   "source": [
    "import pandas as pd\n",
    "import statsmodels.api as sm\n",
    "import statsmodels.formula.api as smf\n",
    "import ast\n",
    "import re\n",
    "import numpy as np\n",
    "import matplotlib.pyplot as plt\n",
    "from scipy.stats import ttest_rel\n",
    "from scipy import stats\n",
    "from scipy.stats import t\n",
    "import numpy as np\n",
    "import pandas as pd\n",
    "from itertools import combinations\n",
    "from functions import *"
   ]
  },
  {
   "cell_type": "code",
   "execution_count": 72,
   "id": "ec1b0e92",
   "metadata": {},
   "outputs": [],
   "source": [
    "def calcAcc(D1):\n",
    "    \n",
    "    D1['number_of_letters'] = D1['correctSequence'].apply(lambda x: len(x))\n",
    "    # D1[D1['number_of_letters']==3]\n",
    "    accuracies = []\n",
    "    for idx,row in D1.iterrows():\n",
    "        accuracies.append(np.intersect1d(row['correctSequence'], row['userInput']).size / len(row['correctSequence']))\n",
    "    D1['accuracies'] = np.array(accuracies)"
   ]
  },
  {
   "cell_type": "code",
   "execution_count": 73,
   "id": "8f632f3b",
   "metadata": {},
   "outputs": [
    {
     "data": {
      "text/html": [
       "<div>\n",
       "<style scoped>\n",
       "    .dataframe tbody tr th:only-of-type {\n",
       "        vertical-align: middle;\n",
       "    }\n",
       "\n",
       "    .dataframe tbody tr th {\n",
       "        vertical-align: top;\n",
       "    }\n",
       "\n",
       "    .dataframe thead th {\n",
       "        text-align: right;\n",
       "    }\n",
       "</style>\n",
       "<table border=\"1\" class=\"dataframe\">\n",
       "  <thead>\n",
       "    <tr style=\"text-align: right;\">\n",
       "      <th></th>\n",
       "      <th>wait</th>\n",
       "      <th>correctSequence</th>\n",
       "      <th>userInput</th>\n",
       "      <th>number_of_letters</th>\n",
       "      <th>accuracies</th>\n",
       "    </tr>\n",
       "  </thead>\n",
       "  <tbody>\n",
       "    <tr>\n",
       "      <th>0</th>\n",
       "      <td>0.5</td>\n",
       "      <td>[47, 19, 81, 42, 27, 86, 40, 92, 58, 49, 56, 9...</td>\n",
       "      <td>[25, 23, 81, 47, 49, 27, 33, 81, 85, 94, 34, 1...</td>\n",
       "      <td>20</td>\n",
       "      <td>0.40</td>\n",
       "    </tr>\n",
       "    <tr>\n",
       "      <th>1</th>\n",
       "      <td>0.5</td>\n",
       "      <td>[51, 64, 75, 80, 25, 27, 72, 28, 59, 97, 85, 7...</td>\n",
       "      <td>[14, 45, 49, 88, 75, 70, 14, 28, 56, 34, 67, 3...</td>\n",
       "      <td>20</td>\n",
       "      <td>0.30</td>\n",
       "    </tr>\n",
       "    <tr>\n",
       "      <th>2</th>\n",
       "      <td>0.5</td>\n",
       "      <td>[76, 14, 60, 88, 37, 77, 90, 64, 99, 89, 72, 8...</td>\n",
       "      <td>[41, 70, 76, 14, 60, 76, 34, 21, 54, 76, 94, 2...</td>\n",
       "      <td>20</td>\n",
       "      <td>0.30</td>\n",
       "    </tr>\n",
       "    <tr>\n",
       "      <th>3</th>\n",
       "      <td>0.5</td>\n",
       "      <td>[94, 61, 50, 95, 80, 49, 64, 23, 99, 24, 66, 1...</td>\n",
       "      <td>[37, 35, 94, 95, 91, 90, 64, 61, 65, 35, 83, 2...</td>\n",
       "      <td>20</td>\n",
       "      <td>0.40</td>\n",
       "    </tr>\n",
       "    <tr>\n",
       "      <th>4</th>\n",
       "      <td>1.0</td>\n",
       "      <td>[67, 96, 28, 95, 42, 73, 74, 83, 66, 82, 20, 4...</td>\n",
       "      <td>[52, 33, 96, 97, 86, 82, 72, 71, 45, 56, 23, 9...</td>\n",
       "      <td>20</td>\n",
       "      <td>0.25</td>\n",
       "    </tr>\n",
       "    <tr>\n",
       "      <th>...</th>\n",
       "      <td>...</td>\n",
       "      <td>...</td>\n",
       "      <td>...</td>\n",
       "      <td>...</td>\n",
       "      <td>...</td>\n",
       "    </tr>\n",
       "    <tr>\n",
       "      <th>133</th>\n",
       "      <td>4.0</td>\n",
       "      <td>[69, 33, 14, 64, 20, 56, 82, 39, 31, 66, 51, 7...</td>\n",
       "      <td>[18, 28, 43, 12, 13, 14, 15, 81, 99, 93, 88, 3...</td>\n",
       "      <td>20</td>\n",
       "      <td>0.45</td>\n",
       "    </tr>\n",
       "    <tr>\n",
       "      <th>134</th>\n",
       "      <td>4.0</td>\n",
       "      <td>[70, 49, 72, 84, 33, 68, 28, 46, 10, 37, 60, 9...</td>\n",
       "      <td>[70, 60, 26, 90, 23, 43, 37, 93, 47, 73, 10, 6...</td>\n",
       "      <td>20</td>\n",
       "      <td>0.35</td>\n",
       "    </tr>\n",
       "    <tr>\n",
       "      <th>135</th>\n",
       "      <td>4.0</td>\n",
       "      <td>[26, 79, 81, 37, 57, 20, 76, 55, 96, 45, 18, 4...</td>\n",
       "      <td>[24, 12, 95, 96, 12, 50, 51, 53, 26, 25, 55]</td>\n",
       "      <td>20</td>\n",
       "      <td>0.30</td>\n",
       "    </tr>\n",
       "    <tr>\n",
       "      <th>136</th>\n",
       "      <td>4.0</td>\n",
       "      <td>[73, 82, 57, 21, 77, 99, 58, 50, 68, 20, 30, 8...</td>\n",
       "      <td>[37, 47, 77, 86, 87, 82, 91, 99, 20, 30, 73, 4...</td>\n",
       "      <td>20</td>\n",
       "      <td>0.55</td>\n",
       "    </tr>\n",
       "    <tr>\n",
       "      <th>137</th>\n",
       "      <td>4.0</td>\n",
       "      <td>[33, 85, 56, 94, 38, 81, 18, 41, 23, 44, 20, 4...</td>\n",
       "      <td>[26, 91, 68, 11, 20, 90, 24, 33, 89, 90, 18, 8...</td>\n",
       "      <td>20</td>\n",
       "      <td>0.40</td>\n",
       "    </tr>\n",
       "  </tbody>\n",
       "</table>\n",
       "<p>138 rows × 5 columns</p>\n",
       "</div>"
      ],
      "text/plain": [
       "     wait                                    correctSequence  \\\n",
       "0     0.5  [47, 19, 81, 42, 27, 86, 40, 92, 58, 49, 56, 9...   \n",
       "1     0.5  [51, 64, 75, 80, 25, 27, 72, 28, 59, 97, 85, 7...   \n",
       "2     0.5  [76, 14, 60, 88, 37, 77, 90, 64, 99, 89, 72, 8...   \n",
       "3     0.5  [94, 61, 50, 95, 80, 49, 64, 23, 99, 24, 66, 1...   \n",
       "4     1.0  [67, 96, 28, 95, 42, 73, 74, 83, 66, 82, 20, 4...   \n",
       "..    ...                                                ...   \n",
       "133   4.0  [69, 33, 14, 64, 20, 56, 82, 39, 31, 66, 51, 7...   \n",
       "134   4.0  [70, 49, 72, 84, 33, 68, 28, 46, 10, 37, 60, 9...   \n",
       "135   4.0  [26, 79, 81, 37, 57, 20, 76, 55, 96, 45, 18, 4...   \n",
       "136   4.0  [73, 82, 57, 21, 77, 99, 58, 50, 68, 20, 30, 8...   \n",
       "137   4.0  [33, 85, 56, 94, 38, 81, 18, 41, 23, 44, 20, 4...   \n",
       "\n",
       "                                             userInput  number_of_letters  \\\n",
       "0    [25, 23, 81, 47, 49, 27, 33, 81, 85, 94, 34, 1...                 20   \n",
       "1    [14, 45, 49, 88, 75, 70, 14, 28, 56, 34, 67, 3...                 20   \n",
       "2    [41, 70, 76, 14, 60, 76, 34, 21, 54, 76, 94, 2...                 20   \n",
       "3    [37, 35, 94, 95, 91, 90, 64, 61, 65, 35, 83, 2...                 20   \n",
       "4    [52, 33, 96, 97, 86, 82, 72, 71, 45, 56, 23, 9...                 20   \n",
       "..                                                 ...                ...   \n",
       "133  [18, 28, 43, 12, 13, 14, 15, 81, 99, 93, 88, 3...                 20   \n",
       "134  [70, 60, 26, 90, 23, 43, 37, 93, 47, 73, 10, 6...                 20   \n",
       "135       [24, 12, 95, 96, 12, 50, 51, 53, 26, 25, 55]                 20   \n",
       "136  [37, 47, 77, 86, 87, 82, 91, 99, 20, 30, 73, 4...                 20   \n",
       "137  [26, 91, 68, 11, 20, 90, 24, 33, 89, 90, 18, 8...                 20   \n",
       "\n",
       "     accuracies  \n",
       "0          0.40  \n",
       "1          0.30  \n",
       "2          0.30  \n",
       "3          0.40  \n",
       "4          0.25  \n",
       "..          ...  \n",
       "133        0.45  \n",
       "134        0.35  \n",
       "135        0.30  \n",
       "136        0.55  \n",
       "137        0.40  \n",
       "\n",
       "[138 rows x 5 columns]"
      ]
     },
     "execution_count": 73,
     "metadata": {},
     "output_type": "execute_result"
    }
   ],
   "source": [
    "D1 = loadDataFrame(\"Ali\\eksperiment1.csv\")\n",
    "D2 = loadDataFrame(\"Carl\\eksperiment1.csv\")\n",
    "D3 = loadDataFrame(\"Erik\\eksperiment1.csv\")\n",
    "D4 = loadDataFrame(\"Kasper\\eksperiment1.csv\")\n",
    "\n",
    "df = pd.concat([D1,D2,D3,D4], ignore_index=True)\n",
    "calcAcc(df)\n",
    "df"
   ]
  },
  {
   "cell_type": "markdown",
   "id": "c3687488",
   "metadata": {},
   "source": []
  },
  {
   "cell_type": "code",
   "execution_count": 74,
   "id": "d0b970bb",
   "metadata": {},
   "outputs": [
    {
     "data": {
      "text/plain": [
       "np.float64(0.00013876864927117266)"
      ]
     },
     "execution_count": 74,
     "metadata": {},
     "output_type": "execute_result"
    }
   ],
   "source": [
    "\n",
    "model = smf.ols('accuracies ~ wait', data=df).fit()\n",
    "model.f_pvalue"
   ]
  },
  {
   "cell_type": "code",
   "execution_count": 75,
   "id": "8efe09a8",
   "metadata": {},
   "outputs": [],
   "source": [
    "dfMeans = df.groupby('wait')[[ 'accuracies']].mean()\n"
   ]
  },
  {
   "cell_type": "code",
   "execution_count": 76,
   "id": "672c005f",
   "metadata": {},
   "outputs": [
    {
     "data": {
      "image/png": "[encoded data removed]",
      "text/plain": [
       "<Figure size 800x500 with 1 Axes>"
      ]
     },
     "metadata": {},
     "output_type": "display_data"
    }
   ],
   "source": [
    "x_vals = np.linspace(df['wait'].min(), df['wait'].max(), 50)\n",
    "y_vals = model.predict(pd.DataFrame({'wait': x_vals}))# Plot with regression line\n",
    "plt.figure(figsize=(8, 5))\n",
    "\n",
    "plt.scatter(dfMeans.index, dfMeans['accuracies'], alpha=0.6, label='Mean Successrate')\n",
    "plt.plot(x_vals, y_vals, color='red', label='Regression line')\n",
    "plt.xlabel(\"wait time (seconds)\")\n",
    "plt.ylabel(\"Success Rate\")\n",
    "plt.title(\"Success Rate vs. Sequence Length with Regression Line\")\n",
    "plt.legend()\n",
    "plt.grid(True)\n",
    "plt.show()"
   ]
  }
 ],
 "metadata": {
  "kernelspec": {
   "display_name": "dtu02450",
   "language": "python",
   "name": "python3"
  },
  "language_info": {
   "codemirror_mode": {
    "name": "ipython",
    "version": 3
   },
   "file_extension": ".py",
   "mimetype": "text/x-python",
   "name": "python",
   "nbconvert_exporter": "python",
   "pygments_lexer": "ipython3",
   "version": "3.11.11"
  }
 },
 "nbformat": 4,
 "nbformat_minor": 5
}
