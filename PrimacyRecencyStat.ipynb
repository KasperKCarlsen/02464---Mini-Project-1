{
 "cells": [
  {
   "cell_type": "code",
   "execution_count": 115,
   "id": "9c2f1b04",
   "metadata": {},
   "outputs": [],
   "source": [
    "import pandas as pd\n",
    "import statsmodels.api as sm\n",
    "import statsmodels.formula.api as smf\n",
    "import ast\n",
    "import re\n",
    "import numpy as np\n",
    "import matplotlib.pyplot as plt\n",
    "from scipy.stats import ttest_rel\n",
    "from scipy import stats\n",
    "from scipy.stats import t\n",
    "import numpy as np\n",
    "import pandas as pd\n",
    "from itertools import combinations\n",
    "from functions import *"
   ]
  },
  {
   "cell_type": "code",
   "execution_count": 116,
   "id": "12c06fb7",
   "metadata": {},
   "outputs": [],
   "source": [
    "def calcAcc(D1):\n",
    "    \n",
    "    D1['number_of_letters'] = D1['correctSequence'].apply(lambda x: len(x))\n",
    "    # D1[D1['number_of_letters']==3]\n",
    "    accuracies = []\n",
    "    for idx,row in D1.iterrows():\n",
    "        accuracies.append(np.intersect1d(row['correctSequence'], row['userInput']).size / len(row['correctSequence']))\n",
    "    D1['accuracies'] = np.array(accuracies)"
   ]
  },
  {
   "cell_type": "code",
   "execution_count": 117,
   "id": "66cf1def",
   "metadata": {},
   "outputs": [],
   "source": [
    "def calcRecencyAcc(D1):\n",
    "    n_recency = 6\n",
    "    accuracies = []\n",
    "    for idx, row in D1.iterrows():\n",
    "        accuracies.append(np.intersect1d(row['correctSequence'][-6:], row['userInput']).size / n_recency)\n",
    "    D1['recencyAccuracies'] = np.array(accuracies)"
   ]
  },
  {
   "cell_type": "code",
   "execution_count": 118,
   "id": "cf040f4a",
   "metadata": {},
   "outputs": [],
   "source": [
    "def calcPrimacyAcc(D1):\n",
    "    n_primacy = 6\n",
    "    accuracies = []\n",
    "    for idx, row in D1.iterrows():\n",
    "        accuracies.append(np.intersect1d(row['correctSequence'][:6], row['userInput']).size / n_primacy)\n",
    "    D1['primacyAccuracies'] = np.array(accuracies)"
   ]
  },
  {
   "cell_type": "markdown",
   "id": "d310db17",
   "metadata": {},
   "source": [
    "## Comparison of recency effect"
   ]
  },
  {
   "cell_type": "code",
   "execution_count": 119,
   "id": "f30289e7",
   "metadata": {},
   "outputs": [],
   "source": [
    "D1 = loadDataFrame(\"Ali/eksperiment1.csv\")\n",
    "D2 = loadDataFrame(\"Carl/eksperiment1.csv\")\n",
    "D3 = loadDataFrame(\"Erik/eksperiment1.csv\")\n",
    "D4 = loadDataFrame(\"Kasper/eksperiment1.csv\")\n",
    "\n",
    "df = pd.concat([D1,D2,D3,D4], ignore_index=True)\n",
    "df1 = df[df[\"wait\"] == 1].copy()\n",
    "calcAcc(df1)\n",
    "calcRecencyAcc(df1)\n",
    "# df1.reset_index()"
   ]
  },
  {
   "cell_type": "code",
   "execution_count": 120,
   "id": "24b4d574",
   "metadata": {},
   "outputs": [],
   "source": [
    "D1 = loadDataFrame(\"Ali/eksperiment2_WorkingMemoryFalse.csv\")\n",
    "D2 = loadDataFrame(\"Carl/eksperiment2_WorkingMemoryFalse.csv\")\n",
    "D3 = loadDataFrame(\"Erik/eksperiment2_WorkingMemoryFalse.csv\")\n",
    "D4 = loadDataFrame(\"Kasper/eksperiment2_WorkingMemoryFalse.csv\")\n",
    "\n",
    "df2 = pd.concat([D1,D2,D3,D4], ignore_index=True)\n",
    "calcAcc(df2)\n",
    "calcRecencyAcc(df2)\n",
    "# df2"
   ]
  },
  {
   "cell_type": "code",
   "execution_count": 121,
   "id": "d1f0f6ba",
   "metadata": {},
   "outputs": [],
   "source": [
    "D1 = loadDataFrame(\"Ali/eksperiment2_WorkingMemoryTrue.csv\")\n",
    "D2 = loadDataFrame(\"Carl/eksperiment2_WorkingMemoryTrue.csv\")\n",
    "D3 = loadDataFrame(\"Erik/eksperiment2_WorkingMemoryTrue.csv\")\n",
    "D4 = loadDataFrame(\"Kasper/eksperiment2_WorkingMemoryTrue.csv\")\n",
    "\n",
    "df3 = pd.concat([D1,D2,D3,D4], ignore_index=True)\n",
    "calcAcc(df3)\n",
    "calcRecencyAcc(df3)\n",
    "# df3"
   ]
  },
  {
   "cell_type": "code",
   "execution_count": 122,
   "id": "c64c516a",
   "metadata": {},
   "outputs": [
    {
     "name": "stdout",
     "output_type": "stream",
     "text": [
      "Average mean in Experiment 1        :  0.4940 ± 0.2463\n",
      "Average mean in Pause               :  0.4690 ± 0.2185\n",
      "Average mean in WorkingMemory       :  0.2357 ± 0.1737\n"
     ]
    }
   ],
   "source": [
    "### Calculating the average mean accuracy in experiment 1\n",
    "meanRecAcc1 = df1[\"recencyAccuracies\"].mean()\n",
    "meanRecAcc2 = df2[\"recencyAccuracies\"].mean()\n",
    "meanRecAcc3 = df3[\"recencyAccuracies\"].mean()\n",
    "\n",
    "means = [meanRecAcc1, meanRecAcc2, meanRecAcc3]\n",
    "\n",
    "stdPriAcc1 = df1[\"recencyAccuracies\"].std()\n",
    "stdPriAcc2 = df2[\"recencyAccuracies\"].std()\n",
    "stdPriAcc3 = df3[\"recencyAccuracies\"].std()\n",
    "\n",
    "stds = [stdPriAcc1, stdPriAcc2, stdPriAcc3]\n",
    "\n",
    "for i, exp in enumerate([\"Experiment 1\", \"Pause\", \"WorkingMemory\"]):\n",
    "    print(f\"Average mean in {exp:<20}: {means[i]:>7.4f} ± {stds[i]:.4f}\")"
   ]
  },
  {
   "cell_type": "code",
   "execution_count": 123,
   "id": "8efa4cfc",
   "metadata": {},
   "outputs": [
    {
     "data": {
      "image/png": "[encoded data removed]",
      "text/plain": [
       "<Figure size 600x400 with 1 Axes>"
      ]
     },
     "metadata": {},
     "output_type": "display_data"
    }
   ],
   "source": [
    "means = [meanRecAcc1, meanRecAcc2, meanRecAcc3]\n",
    "labels = ['Experiment 1', 'Pause', 'WorkingMemory']\n",
    "\n",
    "plt.figure(figsize=(6,4))\n",
    "plt.bar(labels, means)\n",
    "plt.ylabel('Mean Recency Accuracy')\n",
    "plt.title('Mean Recency Accuracy for Each Experiment')\n",
    "plt.ylim(0, 1)\n",
    "plt.show()"
   ]
  },
  {
   "cell_type": "code",
   "execution_count": 124,
   "id": "f1b5c5c4",
   "metadata": {},
   "outputs": [
    {
     "name": "stdout",
     "output_type": "stream",
     "text": [
      "P-value of Experiment 1 vs Pause: 0.6230 \n",
      "P-value of Experiment 1 vs WorkingMemory: 6.2675E-08\n",
      "P-value of Pause vs WorkingMemory: 1.0560E-10\n"
     ]
    }
   ],
   "source": [
    "### Performing t-test for each combination of means\n",
    "\n",
    "stat, pval12 = stats.ttest_ind(df1['recencyAccuracies'], df2['recencyAccuracies'])\n",
    "stat, pval13 = stats.ttest_ind(df1['recencyAccuracies'], df3['recencyAccuracies'])\n",
    "stat, pval23 = stats.ttest_ind(df2['recencyAccuracies'], df3['recencyAccuracies'])\n",
    "\n",
    "print(f\"P-value of Experiment 1 vs Pause: {pval12:<7.4f}\")\n",
    "print(f\"P-value of Experiment 1 vs WorkingMemory: {pval13:>7.4E}\")\n",
    "print(f\"P-value of Pause vs WorkingMemory: {pval23:>7.4E}\")"
   ]
  },
  {
   "cell_type": "markdown",
   "id": "528a18aa",
   "metadata": {},
   "source": [
    "## Comparison of primacy effect\n",
    "(in regards to the working memory task)"
   ]
  },
  {
   "cell_type": "code",
   "execution_count": 125,
   "id": "537e2754",
   "metadata": {},
   "outputs": [],
   "source": [
    "D1 = loadDataFrame(\"Ali/eksperiment1.csv\")\n",
    "D2 = loadDataFrame(\"Carl/eksperiment1.csv\")\n",
    "D3 = loadDataFrame(\"Erik/eksperiment1.csv\")\n",
    "D4 = loadDataFrame(\"Kasper/eksperiment1.csv\")\n",
    "\n",
    "df = pd.concat([D1,D2,D3,D4], ignore_index=True)\n",
    "df1 = df[df[\"wait\"] == 1].copy()\n",
    "calcAcc(df1)\n",
    "calcPrimacyAcc(df1)\n",
    "# df1.reset_index()"
   ]
  },
  {
   "cell_type": "code",
   "execution_count": 126,
   "id": "d93cc96c",
   "metadata": {},
   "outputs": [],
   "source": [
    "D1 = loadDataFrame(\"Ali/eksperiment2_WorkingMemoryFalse.csv\")\n",
    "D2 = loadDataFrame(\"Carl/eksperiment2_WorkingMemoryFalse.csv\")\n",
    "D3 = loadDataFrame(\"Erik/eksperiment2_WorkingMemoryFalse.csv\")\n",
    "D4 = loadDataFrame(\"Kasper/eksperiment2_WorkingMemoryFalse.csv\")\n",
    "\n",
    "df2 = pd.concat([D1,D2,D3,D4], ignore_index=True)\n",
    "calcAcc(df2)\n",
    "calcPrimacyAcc(df2)\n",
    "# df2"
   ]
  },
  {
   "cell_type": "code",
   "execution_count": 127,
   "id": "d1777d49",
   "metadata": {},
   "outputs": [],
   "source": [
    "D1 = loadDataFrame(\"Ali/eksperiment2_WorkingMemoryTrue.csv\")\n",
    "D2 = loadDataFrame(\"Carl/eksperiment2_WorkingMemoryTrue.csv\")\n",
    "D3 = loadDataFrame(\"Erik/eksperiment2_WorkingMemoryTrue.csv\")\n",
    "D4 = loadDataFrame(\"Kasper/eksperiment2_WorkingMemoryTrue.csv\")\n",
    "\n",
    "df3 = pd.concat([D1,D2,D3,D4], ignore_index=True)\n",
    "calcAcc(df3)\n",
    "calcPrimacyAcc(df3)\n",
    "# df3"
   ]
  },
  {
   "cell_type": "code",
   "execution_count": 128,
   "id": "185e18f9",
   "metadata": {},
   "outputs": [
    {
     "name": "stdout",
     "output_type": "stream",
     "text": [
      "Average mean in Experiment 1        :  0.3274 ± 0.2334\n",
      "Average mean in Pause               :  0.3214 ± 0.1931\n",
      "Average mean in WorkingMemory       :  0.3405 ± 0.2347\n"
     ]
    }
   ],
   "source": [
    "### Calculating the average mean accuracy in experiment 1\n",
    "meanPriAcc1 = df1[\"primacyAccuracies\"].mean()\n",
    "meanPriAcc2 = df2[\"primacyAccuracies\"].mean()\n",
    "meanPriAcc3 = df3[\"primacyAccuracies\"].mean()\n",
    "\n",
    "means = [meanPriAcc1, meanPriAcc2, meanPriAcc3]\n",
    "\n",
    "stdPriAcc1 = df1[\"primacyAccuracies\"].std()\n",
    "stdPriAcc2 = df2[\"primacyAccuracies\"].std()\n",
    "stdPriAcc3 = df3[\"primacyAccuracies\"].std()\n",
    "\n",
    "stds = [stdPriAcc1, stdPriAcc2, stdPriAcc3]\n",
    "\n",
    "for i, exp in enumerate([\"Experiment 1\", \"Pause\", \"WorkingMemory\"]):\n",
    "    print(f\"Average mean in {exp:<20}: {means[i]:>7.4f} ± {stds[i]:.4f}\")"
   ]
  },
  {
   "cell_type": "code",
   "execution_count": 129,
   "id": "0eb4cb43",
   "metadata": {},
   "outputs": [
    {
     "data": {
      "image/png": "[encoded data removed]",
      "text/plain": [
       "<Figure size 600x400 with 1 Axes>"
      ]
     },
     "metadata": {},
     "output_type": "display_data"
    }
   ],
   "source": [
    "means = [meanPriAcc1, meanPriAcc2, meanPriAcc3]\n",
    "labels = ['Experiment 1', 'Pause', 'WorkingMemory']\n",
    "\n",
    "plt.figure(figsize=(6,4))\n",
    "plt.bar(labels, means)\n",
    "plt.ylabel('Mean Primacy Accuracy')\n",
    "plt.title('Mean Primacy Accuracy for Each Experiment')\n",
    "plt.ylim(0, 1)\n",
    "plt.show()"
   ]
  },
  {
   "cell_type": "code",
   "execution_count": 130,
   "id": "02436777",
   "metadata": {},
   "outputs": [
    {
     "name": "stdout",
     "output_type": "stream",
     "text": [
      "P-value of Experiment 1 vs Pause: 0.8971 \n",
      "P-value of Experiment 1 vs WorkingMemory:  0.8032\n",
      "P-value of Pause vs WorkingMemory:  0.6009\n"
     ]
    }
   ],
   "source": [
    "### Performing t-test for each combination of means\n",
    "\n",
    "stat, pval12 = stats.ttest_ind(df1['primacyAccuracies'], df2['primacyAccuracies'])\n",
    "stat, pval13 = stats.ttest_ind(df1['primacyAccuracies'], df3['primacyAccuracies'])\n",
    "stat, pval23 = stats.ttest_ind(df2['primacyAccuracies'], df3['primacyAccuracies'])\n",
    "\n",
    "print(f\"P-value of Experiment 1 vs Pause: {pval12:<7.4f}\")\n",
    "print(f\"P-value of Experiment 1 vs WorkingMemory: {pval13:>7.4f}\")\n",
    "print(f\"P-value of Pause vs WorkingMemory: {pval23:>7.4f}\")"
   ]
  }
 ],
 "metadata": {
  "kernelspec": {
   "display_name": "MachineLearning",
   "language": "python",
   "name": "python3"
  },
  "language_info": {
   "codemirror_mode": {
    "name": "ipython",
    "version": 3
   },
   "file_extension": ".py",
   "mimetype": "text/x-python",
   "name": "python",
   "nbconvert_exporter": "python",
   "pygments_lexer": "ipython3",
   "version": "3.13.1"
  }
 },
 "nbformat": 4,
 "nbformat_minor": 5
}
