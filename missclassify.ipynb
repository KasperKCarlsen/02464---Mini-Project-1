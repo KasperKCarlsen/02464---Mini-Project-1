{
 "cells": [
  {
   "cell_type": "code",
   "execution_count": 2,
   "id": "67ca1479",
   "metadata": {},
   "outputs": [],
   "source": [
    "import numpy as np\n",
    "import pandas as pd\n",
    "import matplotlib.pyplot as plt\n",
    "import sklearn.linear_model as lm\n",
    "import seaborn as sns\n",
    "from functions import loadDataFrame"
   ]
  },
  {
   "cell_type": "code",
   "execution_count": 35,
   "id": "93dc242f",
   "metadata": {},
   "outputs": [
    {
     "data": {
      "text/html": [
       "<div>\n",
       "<style scoped>\n",
       "    .dataframe tbody tr th:only-of-type {\n",
       "        vertical-align: middle;\n",
       "    }\n",
       "\n",
       "    .dataframe tbody tr th {\n",
       "        vertical-align: top;\n",
       "    }\n",
       "\n",
       "    .dataframe thead th {\n",
       "        text-align: right;\n",
       "    }\n",
       "</style>\n",
       "<table border=\"1\" class=\"dataframe\">\n",
       "  <thead>\n",
       "    <tr style=\"text-align: right;\">\n",
       "      <th></th>\n",
       "      <th>wait</th>\n",
       "      <th>correctSequence</th>\n",
       "      <th>userInput</th>\n",
       "    </tr>\n",
       "  </thead>\n",
       "  <tbody>\n",
       "    <tr>\n",
       "      <th>0</th>\n",
       "      <td>1</td>\n",
       "      <td>[K, U, D, J, S, C, W, C]</td>\n",
       "      <td>[K, U, D, J, S, C, W, C]</td>\n",
       "    </tr>\n",
       "    <tr>\n",
       "      <th>1</th>\n",
       "      <td>1</td>\n",
       "      <td>[M, H, O, M, Z, E, F, J]</td>\n",
       "      <td>[M, H, O, M, Z, E, F, J]</td>\n",
       "    </tr>\n",
       "    <tr>\n",
       "      <th>2</th>\n",
       "      <td>1</td>\n",
       "      <td>[U, F, Q, Q, G, Z, X, F]</td>\n",
       "      <td>[U, F, G, Q, Q, M, F, Z]</td>\n",
       "    </tr>\n",
       "    <tr>\n",
       "      <th>3</th>\n",
       "      <td>1</td>\n",
       "      <td>[G, G, Q, V, B, A, F, U]</td>\n",
       "      <td>[G, G, Q, V, B, A, F, U]</td>\n",
       "    </tr>\n",
       "    <tr>\n",
       "      <th>4</th>\n",
       "      <td>1</td>\n",
       "      <td>[Q, G, V, A, R, Y, N, A]</td>\n",
       "      <td>[Q, G, V, A, R, U, N, A]</td>\n",
       "    </tr>\n",
       "    <tr>\n",
       "      <th>5</th>\n",
       "      <td>1</td>\n",
       "      <td>[F, K, T, W, D, J, V, U]</td>\n",
       "      <td>[F, K, T, Q, W, D, V, U]</td>\n",
       "    </tr>\n",
       "    <tr>\n",
       "      <th>6</th>\n",
       "      <td>1</td>\n",
       "      <td>[J, I, I, M, L, R, A, E]</td>\n",
       "      <td>[J, I, I, M, L, R, E, A]</td>\n",
       "    </tr>\n",
       "    <tr>\n",
       "      <th>7</th>\n",
       "      <td>1</td>\n",
       "      <td>[J, V, G, R, L, Y, H, P]</td>\n",
       "      <td>[J, R, G, R, L, Y, P, H]</td>\n",
       "    </tr>\n",
       "    <tr>\n",
       "      <th>8</th>\n",
       "      <td>1</td>\n",
       "      <td>[H, S, S, M, W, X, R, M]</td>\n",
       "      <td>[H, S, S, M, W, R, W, W]</td>\n",
       "    </tr>\n",
       "    <tr>\n",
       "      <th>9</th>\n",
       "      <td>1</td>\n",
       "      <td>[H, X, D, Y, M, C, J, Y]</td>\n",
       "      <td>[H, M, X, J, M, J, Y, M]</td>\n",
       "    </tr>\n",
       "  </tbody>\n",
       "</table>\n",
       "</div>"
      ],
      "text/plain": [
       "   wait           correctSequence                 userInput\n",
       "0     1  [K, U, D, J, S, C, W, C]  [K, U, D, J, S, C, W, C]\n",
       "1     1  [M, H, O, M, Z, E, F, J]  [M, H, O, M, Z, E, F, J]\n",
       "2     1  [U, F, Q, Q, G, Z, X, F]  [U, F, G, Q, Q, M, F, Z]\n",
       "3     1  [G, G, Q, V, B, A, F, U]  [G, G, Q, V, B, A, F, U]\n",
       "4     1  [Q, G, V, A, R, Y, N, A]  [Q, G, V, A, R, U, N, A]\n",
       "5     1  [F, K, T, W, D, J, V, U]  [F, K, T, Q, W, D, V, U]\n",
       "6     1  [J, I, I, M, L, R, A, E]  [J, I, I, M, L, R, E, A]\n",
       "7     1  [J, V, G, R, L, Y, H, P]  [J, R, G, R, L, Y, P, H]\n",
       "8     1  [H, S, S, M, W, X, R, M]  [H, S, S, M, W, R, W, W]\n",
       "9     1  [H, X, D, Y, M, C, J, Y]  [H, M, X, J, M, J, Y, M]"
      ]
     },
     "metadata": {},
     "output_type": "display_data"
    },
    {
     "data": {
      "text/plain": [
       "(array(['K', 'U', 'D', 'J', 'S', 'C', 'W', 'C', 'M', 'H', 'O', 'M', 'Z',\n",
       "        'E', 'F', 'J', 'U', 'F', 'Q', 'Q', 'G', 'Z', 'X', 'F', 'G', 'G',\n",
       "        'Q', 'V', 'B', 'A', 'F', 'U', 'Q', 'G', 'V', 'A', 'R', 'Y', 'N',\n",
       "        'A', 'F', 'K', 'T', 'W', 'D', 'J', 'V', 'U', 'J', 'I', 'I', 'M',\n",
       "        'L', 'R', 'A', 'E', 'J', 'V', 'G', 'R', 'L', 'Y', 'H', 'P', 'H',\n",
       "        'S', 'S', 'M', 'W', 'X', 'R', 'M', 'H', 'X', 'D', 'Y', 'M', 'C',\n",
       "        'J', 'Y'], dtype='<U32'),\n",
       " array(['K', 'U', 'D', 'J', 'S', 'C', 'W', 'C', 'M', 'H', 'O', 'M', 'Z',\n",
       "        'E', 'F', 'J', 'U', 'F', 'G', 'Q', 'Q', 'M', 'F', 'Z', 'G', 'G',\n",
       "        'Q', 'V', 'B', 'A', 'F', 'U', 'Q', 'G', 'V', 'A', 'R', 'U', 'N',\n",
       "        'A', 'F', 'K', 'T', 'Q', 'W', 'D', 'V', 'U', 'J', 'I', 'I', 'M',\n",
       "        'L', 'R', 'E', 'A', 'J', 'R', 'G', 'R', 'L', 'Y', 'P', 'H', 'H',\n",
       "        'S', 'S', 'M', 'W', 'R', 'W', 'W', 'H', 'M', 'X', 'J', 'M', 'J',\n",
       "        'Y', 'M'], dtype='<U32'))"
      ]
     },
     "execution_count": 35,
     "metadata": {},
     "output_type": "execute_result"
    }
   ],
   "source": [
    "df1 = loadDataFrame('Carl/eksperiment4.csv')\n",
    "df1 = df1.iloc[:10,:]\n",
    "display(df1)\n",
    "\n",
    "correctsArray = np.array([])\n",
    "inputsArray = np.array([])\n",
    "\n",
    "for idx,row in df1.iterrows():\n",
    "    correctsArray = np.concatenate((correctsArray,row['correctSequence']),axis=0)\n",
    "    inputsArray = np.concatenate((inputsArray,row['userInput']),axis=0)\n",
    "\n",
    "correctsArray , inputsArray"
   ]
  },
  {
   "cell_type": "code",
   "execution_count": 74,
   "id": "5d1b5877",
   "metadata": {},
   "outputs": [
    {
     "data": {
      "text/plain": [
       "(array(['P', 'O', 'F', 'E', 'K', 'S', 'G', 'X', 'U', 'L', 'K', 'Q', 'K',\n",
       "        'C', 'N', 'B', 'G', 'U', 'Y', 'I', 'X', 'K', 'J', 'L', 'P', 'V',\n",
       "        'M', 'H', 'T', 'O', 'X', 'R', 'W', 'I', 'D', 'W', 'E', 'G', 'U',\n",
       "        'Q', 'U', 'F', 'H', 'D', 'H', 'Q', 'N', 'J', 'L', 'Q', 'I', 'N',\n",
       "        'F', 'Q', 'Z', 'K', 'D', 'K', 'K', 'J', 'M', 'H', 'J', 'B', 'D',\n",
       "        'H', 'C', 'U', 'W', 'L', 'C', 'X', 'O', 'K', 'D', 'U', 'T', 'V',\n",
       "        'V', 'D', 'O', 'C', 'H', 'M', 'Q', 'O', 'K', 'D', 'I', 'H', 'I',\n",
       "        'K', 'J', 'Z', 'N', 'Y', 'J', 'T', 'K', 'Z', 'S', 'B', 'J', 'Z',\n",
       "        'I', 'Z', 'F', 'J', 'P', 'K', 'D', 'V', 'F', 'Q', 'G', 'H', 'Q',\n",
       "        'I', 'E', 'Y', 'N', 'F', 'S', 'P', 'D', 'I', 'P', 'V', 'R', 'N',\n",
       "        'H', 'B', 'V', 'D', 'R', 'Q', 'R', 'E', 'R', 'A', 'Z', 'Y', 'E',\n",
       "        'T', 'T', 'D', 'R', 'L', 'I', 'J', 'V', 'Z', 'S', 'O', 'U', 'L',\n",
       "        'Q', 'W', 'U', 'J'], dtype='<U32'),\n",
       " array(['P', 'O', 'F', 'E', 'K', 'F', 'F', 'X', 'U', 'L', 'K', 'Q', 'F',\n",
       "        'H', 'J', 'H', 'G', 'U', 'I', 'X', 'J', 'H', 'K', 'S', 'P', 'V',\n",
       "        'M', 'H', 'T', 'Y', 'I', 'K', 'W', 'I', 'D', 'W', 'E', 'G', 'U',\n",
       "        'Q', 'U', 'F', 'N', 'H', 'G', 'G', 'J', 'L', 'L', 'Q', 'I', 'N',\n",
       "        'G', 'G', 'G', 'K', 'D', 'K', 'K', 'J', 'M', 'H', 'H', 'B', 'D',\n",
       "        'H', 'C', 'U', 'W', 'H', 'L', 'L', 'O', 'K', 'D', 'U', 'T', 'T',\n",
       "        'V', 'D', 'O', 'C', 'L', 'Q', 'O', 'K', 'K', 'K', 'I', 'H', 'I',\n",
       "        'K', 'J', 'Z', 'N', 'K', 'J', 'K', 'T', 'Z', 'S', 'B', 'J', 'Z',\n",
       "        'I', 'Z', 'F', 'J', 'P', 'K', 'K', 'K', 'F', 'Q', 'G', 'H', 'G',\n",
       "        'I', 'E', 'Y', 'N', 'S', 'F', 'P', 'D', 'K', 'H', 'G', 'R', 'N',\n",
       "        'H', 'B', 'V', 'D', 'R', 'Q', 'R', 'E', 'R', 'A', 'Z', 'Y', 'R',\n",
       "        'E', 'T', 'D', 'R', 'L', 'K', 'J', 'H', 'Z', 'S', 'O', 'U', 'L',\n",
       "        'Q', 'W', 'U', 'J'], dtype='<U32'))"
      ]
     },
     "execution_count": 74,
     "metadata": {},
     "output_type": "execute_result"
    }
   ],
   "source": [
    "names = ['Carl','Erik',\n",
    "        #  'Ali'\n",
    "           ]\n",
    "correctsArray = np.array([])\n",
    "inputsArray = np.array([])\n",
    "for name in names:\n",
    "    df2 = loadDataFrame(name+'/eksperiment5_lalala.csv')\n",
    "    # display(df2)\n",
    "    for idx,row in df2.iterrows():\n",
    "        correctsArray = np.concatenate((correctsArray,row['correctSequence']),axis=0)\n",
    "        inputsArray = np.concatenate((inputsArray,row['userInput']),axis=0)\n",
    "\n",
    "\n",
    "correctsArray , inputsArray"
   ]
  },
  {
   "cell_type": "code",
   "execution_count": 75,
   "id": "0a6a8565",
   "metadata": {},
   "outputs": [
    {
     "data": {
      "text/plain": [
       "(array([15, 14,  5,  4, 10, 18,  6, 23, 20, 11, 10, 16, 10,  2, 13,  1,  6,\n",
       "        20, 24,  8, 23, 10,  9, 11, 15, 21, 12,  7, 19, 14, 23, 17, 22,  8,\n",
       "         3, 22,  4,  6, 20, 16, 20,  5,  7,  3,  7, 16, 13,  9, 11, 16,  8,\n",
       "        13,  5, 16, 25, 10,  3, 10, 10,  9, 12,  7,  9,  1,  3,  7,  2, 20,\n",
       "        22, 11,  2, 23, 14, 10,  3, 20, 19, 21, 21,  3, 14,  2,  7, 12, 16,\n",
       "        14, 10,  3,  8,  7,  8, 10,  9, 25, 13, 24,  9, 19, 10, 25, 18,  1,\n",
       "         9, 25,  8, 25,  5,  9, 15, 10,  3, 21,  5, 16,  6,  7, 16,  8,  4,\n",
       "        24, 13,  5, 18, 15,  3,  8, 15, 21, 17, 13,  7,  1, 21,  3, 17, 16,\n",
       "        17,  4, 17,  0, 25, 24,  4, 19, 19,  3, 17, 11,  8,  9, 21, 25, 18,\n",
       "        14, 20, 11, 16, 22, 20,  9]),\n",
       " array([15, 14,  5,  4, 10,  5,  5, 23, 20, 11, 10, 16,  5,  7,  9,  7,  6,\n",
       "        20,  8, 23,  9,  7, 10, 18, 15, 21, 12,  7, 19, 24,  8, 10, 22,  8,\n",
       "         3, 22,  4,  6, 20, 16, 20,  5, 13,  7,  6,  6,  9, 11, 11, 16,  8,\n",
       "        13,  6,  6,  6, 10,  3, 10, 10,  9, 12,  7,  7,  1,  3,  7,  2, 20,\n",
       "        22,  7, 11, 11, 14, 10,  3, 20, 19, 19, 21,  3, 14,  2, 11, 16, 14,\n",
       "        10, 10, 10,  8,  7,  8, 10,  9, 25, 13, 10,  9, 10, 19, 25, 18,  1,\n",
       "         9, 25,  8, 25,  5,  9, 15, 10, 10, 10,  5, 16,  6,  7,  6,  8,  4,\n",
       "        24, 13, 18,  5, 15,  3, 10,  7,  6, 17, 13,  7,  1, 21,  3, 17, 16,\n",
       "        17,  4, 17,  0, 25, 24, 17,  4, 19,  3, 17, 11, 10,  9,  7, 25, 18,\n",
       "        14, 20, 11, 16, 22, 20,  9]))"
      ]
     },
     "execution_count": 75,
     "metadata": {},
     "output_type": "execute_result"
    }
   ],
   "source": [
    "correctIndexArray = []\n",
    "inputIndexArray = []\n",
    "for elem1, elem2 in zip(correctsArray, inputsArray):\n",
    "    correctIndexArray.append(ord(elem1)-65)\n",
    "    inputIndexArray.append(ord(elem2)-65)\n",
    "\n",
    "correctIndexArray = np.array(correctIndexArray)\n",
    "inputIndexArray = np.array(inputIndexArray)\n",
    "correctIndexArray, inputIndexArray"
   ]
  },
  {
   "cell_type": "code",
   "execution_count": 24,
   "id": "ea3c4806",
   "metadata": {},
   "outputs": [],
   "source": [
    "# grid = np.zeros((26,26))\n",
    "# for elem1, elem2 in zip(correctIndexArray, inputIndexArray):\n",
    "#     # if elem1 != elem2:\n",
    "#     #     print(elem1,elem2)\n",
    "#     if elem1 != elem2:\n",
    "#         print(elem1,elem2)"
   ]
  },
  {
   "cell_type": "code",
   "execution_count": 79,
   "id": "6904f460",
   "metadata": {},
   "outputs": [
    {
     "data": {
      "text/plain": [
       "np.int64(25)"
      ]
     },
     "execution_count": 79,
     "metadata": {},
     "output_type": "execute_result"
    }
   ],
   "source": [
    "max(inputIndexArray)"
   ]
  },
  {
   "cell_type": "code",
   "execution_count": 76,
   "id": "8c821318",
   "metadata": {},
   "outputs": [
    {
     "data": {
      "text/plain": [
       "array([[1. , 0. , 0. , 0. , 0. , 0. , 0. , 0. , 0. , 0. , 0. , 0. , 0. ,\n",
       "        0. , 0. , 0. , 0. , 0. , 0. , 0. , 0. , 0. , 0. , 0. , 0. , 0. ],\n",
       "       [0. , 1.7, 0. , 0. , 0. , 0. , 0. , 1. , 0. , 0. , 0. , 0. , 0. ,\n",
       "        0. , 0. , 0. , 0. , 0. , 0. , 0. , 0. , 0. , 0. , 0. , 0. , 0. ],\n",
       "       [0. , 0. , 1.4, 0. , 0. , 0. , 0. , 1. , 0. , 0. , 0. , 1. , 0. ,\n",
       "        0. , 0. , 0. , 0. , 0. , 0. , 0. , 0. , 0. , 0. , 0. , 0. , 0. ],\n",
       "       [0. , 0. , 0. , 2.8, 0. , 0. , 0. , 1. , 0. , 0. , 1.4, 0. , 0. ,\n",
       "        0. , 0. , 0. , 0. , 0. , 0. , 0. , 0. , 0. , 0. , 0. , 0. , 0. ],\n",
       "       [0. , 0. , 0. , 0. , 2. , 0. , 0. , 0. , 0. , 0. , 0. , 0. , 0. ,\n",
       "        0. , 0. , 0. , 0. , 1. , 0. , 0. , 0. , 0. , 0. , 0. , 0. , 0. ],\n",
       "       [0. , 0. , 0. , 0. , 0. , 2. , 1. , 0. , 0. , 0. , 0. , 0. , 0. ,\n",
       "        0. , 0. , 0. , 0. , 0. , 1. , 0. , 0. , 0. , 0. , 0. , 0. , 0. ],\n",
       "       [0. , 0. , 0. , 0. , 0. , 1. , 1.7, 0. , 0. , 0. , 0. , 0. , 0. ,\n",
       "        0. , 0. , 0. , 0. , 0. , 0. , 0. , 0. , 0. , 0. , 0. , 0. , 0. ],\n",
       "       [0. , 0. , 0. , 0. , 0. , 0. , 1. , 2.4, 0. , 0. , 0. , 1. , 0. ,\n",
       "        1. , 0. , 0. , 0. , 0. , 0. , 0. , 0. , 0. , 0. , 0. , 0. , 0. ],\n",
       "       [0. , 0. , 0. , 0. , 0. , 0. , 0. , 0. , 2.4, 0. , 1.4, 0. , 0. ,\n",
       "        0. , 0. , 0. , 0. , 0. , 0. , 0. , 0. , 0. , 0. , 1. , 0. , 0. ],\n",
       "       [0. , 0. , 0. , 0. , 0. , 0. , 0. , 1. , 0. , 2.6, 1. , 1. , 0. ,\n",
       "        0. , 0. , 0. , 0. , 0. , 0. , 0. , 0. , 0. , 0. , 0. , 0. , 0. ],\n",
       "       [0. , 0. , 0. , 0. , 0. , 1. , 0. , 1. , 0. , 0. , 3. , 0. , 0. ,\n",
       "        0. , 0. , 0. , 0. , 0. , 0. , 1. , 0. , 0. , 0. , 0. , 0. , 0. ],\n",
       "       [0. , 0. , 0. , 0. , 0. , 0. , 0. , 1. , 0. , 0. , 0. , 2. , 0. ,\n",
       "        0. , 0. , 0. , 0. , 0. , 1. , 0. , 0. , 0. , 0. , 0. , 0. , 0. ],\n",
       "       [0. , 0. , 0. , 0. , 0. , 0. , 0. , 0. , 0. , 0. , 0. , 0. , 1.4,\n",
       "        0. , 0. , 0. , 1. , 0. , 0. , 0. , 0. , 0. , 0. , 0. , 0. , 0. ],\n",
       "       [0. , 0. , 0. , 0. , 0. , 0. , 0. , 0. , 0. , 1.4, 0. , 0. , 0. ,\n",
       "        2. , 0. , 0. , 0. , 0. , 0. , 0. , 0. , 0. , 0. , 0. , 0. , 0. ],\n",
       "       [0. , 0. , 0. , 0. , 0. , 0. , 0. , 0. , 0. , 0. , 1. , 0. , 0. ,\n",
       "        0. , 2. , 0. , 0. , 0. , 0. , 0. , 0. , 0. , 0. , 0. , 1. , 0. ],\n",
       "       [0. , 0. , 0. , 0. , 0. , 0. , 0. , 1. , 0. , 0. , 0. , 0. , 0. ,\n",
       "        0. , 0. , 2. , 0. , 0. , 0. , 0. , 0. , 0. , 0. , 0. , 0. , 0. ],\n",
       "       [0. , 0. , 0. , 0. , 0. , 0. , 1.7, 0. , 0. , 0. , 0. , 0. , 0. ,\n",
       "        0. , 1. , 0. , 2.4, 0. , 0. , 0. , 0. , 0. , 0. , 0. , 0. , 0. ],\n",
       "       [0. , 0. , 0. , 0. , 0. , 0. , 0. , 0. , 0. , 0. , 1. , 0. , 0. ,\n",
       "        0. , 0. , 0. , 0. , 2.2, 0. , 0. , 0. , 0. , 0. , 0. , 0. , 0. ],\n",
       "       [0. , 0. , 0. , 0. , 0. , 1.4, 0. , 0. , 0. , 0. , 0. , 0. , 0. ,\n",
       "        0. , 0. , 0. , 0. , 0. , 1.4, 0. , 0. , 0. , 0. , 0. , 0. , 0. ],\n",
       "       [0. , 0. , 0. , 0. , 1. , 0. , 0. , 0. , 0. , 0. , 1. , 0. , 0. ,\n",
       "        0. , 0. , 0. , 0. , 0. , 0. , 1.7, 0. , 0. , 0. , 0. , 0. , 0. ],\n",
       "       [0. , 0. , 0. , 0. , 0. , 0. , 0. , 0. , 0. , 0. , 0. , 0. , 0. ,\n",
       "        0. , 0. , 0. , 0. , 0. , 0. , 0. , 2.8, 0. , 0. , 0. , 0. , 0. ],\n",
       "       [0. , 0. , 0. , 0. , 0. , 0. , 1. , 1. , 0. , 0. , 1. , 0. , 0. ,\n",
       "        0. , 0. , 0. , 0. , 0. , 0. , 1. , 0. , 1.7, 0. , 0. , 0. , 0. ],\n",
       "       [0. , 0. , 0. , 0. , 0. , 0. , 0. , 0. , 0. , 0. , 0. , 0. , 0. ,\n",
       "        0. , 0. , 0. , 0. , 0. , 0. , 0. , 0. , 0. , 2. , 0. , 0. , 0. ],\n",
       "       [0. , 0. , 0. , 0. , 0. , 0. , 0. , 0. , 1. , 1. , 0. , 1. , 0. ,\n",
       "        0. , 0. , 0. , 0. , 0. , 0. , 0. , 0. , 0. , 0. , 1. , 0. , 0. ],\n",
       "       [0. , 0. , 0. , 0. , 0. , 0. , 0. , 0. , 1. , 0. , 1. , 0. , 0. ,\n",
       "        0. , 0. , 0. , 0. , 0. , 0. , 0. , 0. , 0. , 0. , 0. , 1.4, 0. ],\n",
       "       [0. , 0. , 0. , 0. , 0. , 0. , 1. , 0. , 0. , 0. , 0. , 0. , 0. ,\n",
       "        0. , 0. , 0. , 0. , 0. , 0. , 0. , 0. , 0. , 0. , 0. , 0. , 2.4]])"
      ]
     },
     "execution_count": 76,
     "metadata": {},
     "output_type": "execute_result"
    }
   ],
   "source": [
    "grid = np.zeros((26,26))\n",
    "for elem1, elem2 in zip(correctIndexArray, inputIndexArray):\n",
    "    # if elem1 != elem2:\n",
    "    #     print(elem1,elem2)\n",
    "    grid[elem1][elem2] += 1\n",
    "grid = np.around(np.sqrt(grid),decimals=1)\n",
    "# grid = (grid - grid.min()) / (grid.max() - grid.min())\n",
    "\n",
    "grid"
   ]
  },
  {
   "cell_type": "code",
   "execution_count": 65,
   "id": "1b21dbf0",
   "metadata": {},
   "outputs": [
    {
     "data": {
      "text/plain": [
       "np.float64(226.0)"
      ]
     },
     "execution_count": 65,
     "metadata": {},
     "output_type": "execute_result"
    }
   ],
   "source": [
    "sum(sum(grid))"
   ]
  },
  {
   "cell_type": "code",
   "execution_count": null,
   "id": "7f2ae51a",
   "metadata": {},
   "outputs": [
    {
     "data": {
      "text/plain": [
       "array([1.54])"
      ]
     },
     "execution_count": 41,
     "metadata": {},
     "output_type": "execute_result"
    }
   ],
   "source": []
  },
  {
   "cell_type": "code",
   "execution_count": 77,
   "id": "4be938e7",
   "metadata": {},
   "outputs": [
    {
     "data": {
      "image/png": "[encoded data removed]",
      "text/plain": [
       "<Figure size 1200x1000 with 2 Axes>"
      ]
     },
     "metadata": {},
     "output_type": "display_data"
    }
   ],
   "source": [
    "# Create alphabet labels\n",
    "labels = [chr(i) for i in range(ord('A'), ord('Z') + 1)]\n",
    "\n",
    "# Create the heatmap\n",
    "fig, ax = plt.subplots(figsize=(12, 10))\n",
    "im = ax.imshow(grid, cmap='YlOrRd', aspect='auto')\n",
    "\n",
    "# Set ticks and labels\n",
    "ax.set_xticks(np.arange(26))\n",
    "ax.set_yticks(np.arange(26))\n",
    "ax.set_xticklabels(labels)\n",
    "ax.set_yticklabels(labels)\n",
    "\n",
    "# Rotate x-axis labels for better readability\n",
    "plt.setp(ax.get_xticklabels(), rotation=0, ha=\"center\")\n",
    "\n",
    "# Add labels\n",
    "ax.set_xlabel('User Input', fontsize=12, fontweight='bold')\n",
    "ax.set_ylabel('Correct Answer', fontsize=12, fontweight='bold')\n",
    "ax.set_title('Confusion Matrix: Correct Answer vs User Input', fontsize=14, fontweight='bold', pad=20)\n",
    "\n",
    "# Add colorbar\n",
    "cbar = plt.colorbar(im, ax=ax)\n",
    "cbar.set_label('Count', rotation=270, labelpad=20)\n",
    "\n",
    "# Add text annotations showing the values\n",
    "for i in range(26):\n",
    "    for j in range(26):\n",
    "        text = ax.text(j, i, grid[i, j],\n",
    "                      ha=\"center\", va=\"center\", color=\"black\" if grid[i, j] > grid.max()/2 else \"white\",\n",
    "                      fontsize=6)\n",
    "\n",
    "plt.tight_layout()\n",
    "plt.show()"
   ]
  },
  {
   "cell_type": "code",
   "execution_count": 76,
   "id": "225663da",
   "metadata": {},
   "outputs": [
    {
     "data": {
      "text/plain": [
       "np.int32(31)"
      ]
     },
     "execution_count": 76,
     "metadata": {},
     "output_type": "execute_result"
    }
   ],
   "source": [
    "grid[ord('R')-65][ord('R')-65]"
   ]
  },
  {
   "cell_type": "code",
   "execution_count": null,
   "id": "77a2c105",
   "metadata": {},
   "outputs": [],
   "source": []
  }
 ],
 "metadata": {
  "kernelspec": {
   "display_name": "dtu02450",
   "language": "python",
   "name": "python3"
  },
  "language_info": {
   "codemirror_mode": {
    "name": "ipython",
    "version": 3
   },
   "file_extension": ".py",
   "mimetype": "text/x-python",
   "name": "python",
   "nbconvert_exporter": "python",
   "pygments_lexer": "ipython3",
   "version": "3.11.11"
  }
 },
 "nbformat": 4,
 "nbformat_minor": 5
}
